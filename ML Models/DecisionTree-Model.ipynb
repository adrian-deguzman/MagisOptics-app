{
 "cells": [
  {
   "cell_type": "code",
   "execution_count": null,
   "metadata": {},
   "outputs": [
    {
     "name": "stdout",
     "output_type": "stream",
     "text": [
      "Requirement already satisfied: opencv-python in c:\\users\\adrian de guzman\\documents\\github\\csci114-group11\\.venv\\lib\\site-packages (4.10.0.84)\n",
      "Requirement already satisfied: numpy>=1.21.2 in c:\\users\\adrian de guzman\\documents\\github\\csci114-group11\\.venv\\lib\\site-packages (from opencv-python) (2.1.3)\n",
      "Note: you may need to restart the kernel to use updated packages.\n",
      "Requirement already satisfied: matplotlib in c:\\users\\adrian de guzman\\documents\\github\\csci114-group11\\.venv\\lib\\site-packages (3.9.2)\n",
      "Requirement already satisfied: contourpy>=1.0.1 in c:\\users\\adrian de guzman\\documents\\github\\csci114-group11\\.venv\\lib\\site-packages (from matplotlib) (1.3.1)\n",
      "Requirement already satisfied: cycler>=0.10 in c:\\users\\adrian de guzman\\documents\\github\\csci114-group11\\.venv\\lib\\site-packages (from matplotlib) (0.12.1)\n",
      "Requirement already satisfied: fonttools>=4.22.0 in c:\\users\\adrian de guzman\\documents\\github\\csci114-group11\\.venv\\lib\\site-packages (from matplotlib) (4.55.0)\n",
      "Requirement already satisfied: kiwisolver>=1.3.1 in c:\\users\\adrian de guzman\\documents\\github\\csci114-group11\\.venv\\lib\\site-packages (from matplotlib) (1.4.7)\n",
      "Requirement already satisfied: numpy>=1.23 in c:\\users\\adrian de guzman\\documents\\github\\csci114-group11\\.venv\\lib\\site-packages (from matplotlib) (2.1.3)\n",
      "Requirement already satisfied: packaging>=20.0 in c:\\users\\adrian de guzman\\documents\\github\\csci114-group11\\.venv\\lib\\site-packages (from matplotlib) (24.2)\n",
      "Requirement already satisfied: pillow>=8 in c:\\users\\adrian de guzman\\documents\\github\\csci114-group11\\.venv\\lib\\site-packages (from matplotlib) (11.0.0)\n",
      "Requirement already satisfied: pyparsing>=2.3.1 in c:\\users\\adrian de guzman\\documents\\github\\csci114-group11\\.venv\\lib\\site-packages (from matplotlib) (3.2.0)\n",
      "Requirement already satisfied: python-dateutil>=2.7 in c:\\users\\adrian de guzman\\documents\\github\\csci114-group11\\.venv\\lib\\site-packages (from matplotlib) (2.9.0.post0)\n",
      "Requirement already satisfied: six>=1.5 in c:\\users\\adrian de guzman\\documents\\github\\csci114-group11\\.venv\\lib\\site-packages (from python-dateutil>=2.7->matplotlib) (1.16.0)\n",
      "Note: you may need to restart the kernel to use updated packages.\n",
      "Requirement already satisfied: pandas in c:\\users\\adrian de guzman\\documents\\github\\csci114-group11\\.venv\\lib\\site-packages (2.2.3)\n",
      "Requirement already satisfied: numpy>=1.23.2 in c:\\users\\adrian de guzman\\documents\\github\\csci114-group11\\.venv\\lib\\site-packages (from pandas) (2.1.3)\n",
      "Requirement already satisfied: python-dateutil>=2.8.2 in c:\\users\\adrian de guzman\\documents\\github\\csci114-group11\\.venv\\lib\\site-packages (from pandas) (2.9.0.post0)\n",
      "Requirement already satisfied: pytz>=2020.1 in c:\\users\\adrian de guzman\\documents\\github\\csci114-group11\\.venv\\lib\\site-packages (from pandas) (2024.2)\n",
      "Requirement already satisfied: tzdata>=2022.7 in c:\\users\\adrian de guzman\\documents\\github\\csci114-group11\\.venv\\lib\\site-packages (from pandas) (2024.2)\n",
      "Requirement already satisfied: six>=1.5 in c:\\users\\adrian de guzman\\documents\\github\\csci114-group11\\.venv\\lib\\site-packages (from python-dateutil>=2.8.2->pandas) (1.16.0)\n",
      "Note: you may need to restart the kernel to use updated packages.\n",
      "Requirement already satisfied: numpy in c:\\users\\adrian de guzman\\documents\\github\\csci114-group11\\.venv\\lib\\site-packages (2.1.3)\n",
      "Note: you may need to restart the kernel to use updated packages.\n",
      "Requirement already satisfied: scikit-learn in c:\\users\\adrian de guzman\\documents\\github\\csci114-group11\\.venv\\lib\\site-packages (1.5.2)\n",
      "Requirement already satisfied: numpy>=1.19.5 in c:\\users\\adrian de guzman\\documents\\github\\csci114-group11\\.venv\\lib\\site-packages (from scikit-learn) (2.1.3)\n",
      "Requirement already satisfied: scipy>=1.6.0 in c:\\users\\adrian de guzman\\documents\\github\\csci114-group11\\.venv\\lib\\site-packages (from scikit-learn) (1.14.1)\n",
      "Requirement already satisfied: joblib>=1.2.0 in c:\\users\\adrian de guzman\\documents\\github\\csci114-group11\\.venv\\lib\\site-packages (from scikit-learn) (1.4.2)\n",
      "Requirement already satisfied: threadpoolctl>=3.1.0 in c:\\users\\adrian de guzman\\documents\\github\\csci114-group11\\.venv\\lib\\site-packages (from scikit-learn) (3.5.0)\n",
      "Note: you may need to restart the kernel to use updated packages.\n"
     ]
    }
   ],
   "source": [
    "%pip install opencv-python\n",
    "%pip install matplotlib\n",
    "%pip install pandas\n",
    "%pip install numpy\n",
    "%pip install scikit-learn\n",
    "%pip install torch torchvision torchaudio"
   ]
  },
  {
   "cell_type": "code",
   "execution_count": 3,
   "metadata": {},
   "outputs": [],
   "source": [
    "import cv2\n",
    "import matplotlib.pyplot as plt\n",
    "import pandas as pd\n",
    "import os\n",
    "import numpy as np\n",
    "from sklearn.tree import DecisionTreeClassifier\n",
    "from sklearn.ensemble import RandomForestClassifier\n",
    "from sklearn.model_selection import train_test_split\n",
    "from sklearn.metrics import classification_report, accuracy_score, precision_score, recall_score, f1_score\n",
    "import torch\n",
    "import torch.nn as nn\n",
    "import torch.optim as optim"
   ]
  },
  {
   "cell_type": "code",
   "execution_count": 3,
   "metadata": {},
   "outputs": [],
   "source": [
    "pd.set_option('display.colheader_justify', 'center')  # Align headers to center\n",
    "pd.set_option('display.width', None)                 # Avoid line wrapping\n",
    "pd.set_option('display.float_format', '{:.3f}'.format) # Consistent float formatting"
   ]
  },
  {
   "cell_type": "markdown",
   "metadata": {},
   "source": [
    "# Reading Images"
   ]
  },
  {
   "cell_type": "code",
   "execution_count": 3,
   "metadata": {},
   "outputs": [],
   "source": [
    "# img_filepath = 'images/test/0/1037_left.jpeg'\n",
    "# img = cv2.imread(img_filepath)\n",
    "# img\n",
    "# img.shape\n",
    "# plt.imshow(img)\n",
    "\n",
    "# gray_img = cv2.cvtColor(img, cv2.COLOR_BGR2GRAY)\n",
    "# plt.imshow(gray_img)\n",
    "\n",
    "# resized_img = cv2.resize(gray_img, (320, 192))\n",
    "# plt.imshow(resized_img)\n",
    "\n",
    "# img_flatten = resized_img.flatten()\n",
    "# img_flatten"
   ]
  },
  {
   "cell_type": "markdown",
   "metadata": {},
   "source": [
    "# Define a Tunable Classical Model"
   ]
  },
  {
   "cell_type": "code",
   "execution_count": 8,
   "metadata": {},
   "outputs": [
    {
     "name": "stdout",
     "output_type": "stream",
     "text": [
      "16x16 GRAY DecisionTree. Training the model.                                                                     \r"
     ]
    },
    {
     "name": "stderr",
     "output_type": "stream",
     "text": [
      "c:\\Users\\Adrian De Guzman\\AppData\\Local\\Programs\\Python\\Python312\\Lib\\site-packages\\sklearn\\metrics\\_classification.py:1531: UndefinedMetricWarning: Precision is ill-defined and being set to 0.0 in labels with no predicted samples. Use `zero_division` parameter to control this behavior.\n",
      "  _warn_prf(average, modifier, f\"{metric.capitalize()} is\", len(result))\n"
     ]
    },
    {
     "name": "stdout",
     "output_type": "stream",
     "text": [
      "64x64 LAB DecisionTree. Finished reading 1269_right - Copy - Copy - Copy.jpeg.                                   \r"
     ]
    },
    {
     "name": "stderr",
     "output_type": "stream",
     "text": [
      "c:\\Users\\Adrian De Guzman\\AppData\\Local\\Programs\\Python\\Python312\\Lib\\site-packages\\sklearn\\metrics\\_classification.py:1531: UndefinedMetricWarning: Precision is ill-defined and being set to 0.0 in labels with no predicted samples. Use `zero_division` parameter to control this behavior.\n",
      "  _warn_prf(average, modifier, f\"{metric.capitalize()} is\", len(result))\n"
     ]
    },
    {
     "name": "stdout",
     "output_type": "stream",
     "text": [
      "512x512 HSV DecisionTree. Training the model.                                                                      \r"
     ]
    },
    {
     "name": "stderr",
     "output_type": "stream",
     "text": [
      "c:\\Users\\Adrian De Guzman\\AppData\\Local\\Programs\\Python\\Python312\\Lib\\site-packages\\sklearn\\metrics\\_classification.py:1531: UndefinedMetricWarning: Precision is ill-defined and being set to 0.0 in labels with no predicted samples. Use `zero_division` parameter to control this behavior.\n",
      "  _warn_prf(average, modifier, f\"{metric.capitalize()} is\", len(result))\n"
     ]
    },
    {
     "name": "stdout",
     "output_type": "stream",
     "text": [
      "    Image_Size Color_Space         Model  Accuracy  Precision    Recall  \\                                         \n",
      "9           32        GRAY  RandomForest  0.846154   0.923077  0.846154   \n",
      "10          32         LAB  RandomForest  0.846154   0.923077  0.846154   \n",
      "6           32        GRAY  DecisionTree  0.846154   0.923077  0.846154   \n",
      "8           32         HSV  DecisionTree  0.846154   0.923077  0.846154   \n",
      "29         256         HSV  RandomForest  0.846154   0.871795  0.846154   \n",
      "35         512         HSV  RandomForest  0.846154   0.871795  0.846154   \n",
      "34         512         LAB  RandomForest  0.846154   0.897436  0.846154   \n",
      "33         512        GRAY  RandomForest  0.846154   0.897436  0.846154   \n",
      "11          32         HSV  RandomForest  0.846154   0.871795  0.846154   \n",
      "15          64        GRAY  RandomForest  0.846154   0.871795  0.846154   \n",
      "17          64         HSV  RandomForest  0.846154   0.871795  0.846154   \n",
      "21         128        GRAY  RandomForest  0.846154   0.871795  0.846154   \n",
      "23         128         HSV  RandomForest  0.846154   0.871795  0.846154   \n",
      "16          64         LAB  RandomForest  0.846154   0.865385  0.846154   \n",
      "30         512        GRAY  DecisionTree  0.769231   0.807692  0.769231   \n",
      "31         512         LAB  DecisionTree  0.769231   0.807692  0.769231   \n",
      "13          64         LAB  DecisionTree  0.769231   0.769231  0.769231   \n",
      "25         256         LAB  DecisionTree  0.769231   0.782051  0.769231   \n",
      "28         256         LAB  RandomForest  0.769231   0.756410  0.769231   \n",
      "22         128         LAB  RandomForest  0.769231   0.756410  0.769231   \n",
      "27         256        GRAY  RandomForest  0.769231   0.756410  0.769231   \n",
      "14          64         HSV  DecisionTree  0.692308   0.679487  0.692308   \n",
      "1           16         LAB  DecisionTree  0.692308   0.779487  0.692308   \n",
      "0           16        GRAY  DecisionTree  0.692308   0.600000  0.692308   \n",
      "26         256         HSV  DecisionTree  0.615385   0.653846  0.615385   \n",
      "20         128         HSV  DecisionTree  0.615385   0.653846  0.615385   \n",
      "5           16         HSV  RandomForest  0.615385   0.596154  0.615385   \n",
      "7           32         LAB  DecisionTree  0.615385   0.538462  0.615385   \n",
      "2           16         HSV  DecisionTree  0.538462   0.615385  0.538462   \n",
      "18         128        GRAY  DecisionTree  0.461538   0.480769  0.461538   \n",
      "12          64        GRAY  DecisionTree  0.538462   0.423077  0.538462   \n",
      "4           16         LAB  RandomForest  0.461538   0.538462  0.461538   \n",
      "24         256        GRAY  DecisionTree  0.461538   0.467949  0.461538   \n",
      "19         128         LAB  DecisionTree  0.461538   0.435897  0.461538   \n",
      "3           16        GRAY  RandomForest  0.461538   0.497436  0.461538   \n",
      "32         512         HSV  DecisionTree  0.384615   0.241026  0.384615   \n",
      "\n",
      "    F1_Score  \n",
      "9   0.856410  \n",
      "10  0.856410  \n",
      "6   0.856410  \n",
      "8   0.851282  \n",
      "29  0.846154  \n",
      "35  0.846154  \n",
      "34  0.846154  \n",
      "33  0.846154  \n",
      "11  0.846154  \n",
      "15  0.846154  \n",
      "17  0.846154  \n",
      "21  0.846154  \n",
      "23  0.846154  \n",
      "16  0.843956  \n",
      "30  0.764103  \n",
      "31  0.764103  \n",
      "13  0.762637  \n",
      "25  0.753846  \n",
      "28  0.753846  \n",
      "22  0.753846  \n",
      "27  0.753846  \n",
      "14  0.670330  \n",
      "1   0.667949  \n",
      "0   0.614103  \n",
      "26  0.594872  \n",
      "20  0.587912  \n",
      "5   0.577289  \n",
      "7   0.564103  \n",
      "2   0.519048  \n",
      "18  0.465934  \n",
      "12  0.465201  \n",
      "4   0.452381  \n",
      "24  0.450549  \n",
      "19  0.427839  \n",
      "3   0.426923  \n",
      "32  0.296154  \n"
     ]
    }
   ],
   "source": [
    "image_sizes = [16, 32, 64, 128, 256, 512]\n",
    "\n",
    "models = {\n",
    "    \"DecisionTree\": DecisionTreeClassifier(),\n",
    "    \"RandomForest\": RandomForestClassifier()\n",
    "}\n",
    "\n",
    "color_spaces = {\n",
    "    \"GRAY\": cv2.COLOR_BGR2GRAY,\n",
    "    \"LAB\": cv2.COLOR_BGR2LAB,\n",
    "    \"HSV\": cv2.COLOR_BGR2RGB,\n",
    "}\n",
    "\n",
    "results = []\n",
    "\n",
    "def TunableModel(img_size, model_type, model_name, color_space, color_name):\n",
    "    img1D = []\n",
    "    labels = []\n",
    "\n",
    "    # Get images and convert to 1D\n",
    "    \n",
    "    base_path = os.path.join(os.getcwd(), 'images/Tests')\n",
    "    \n",
    "    for dir in os.listdir(base_path):\n",
    "        dir_path = os.path.join(base_path, dir)\n",
    "        for img_path in os.listdir(dir_path):\n",
    "            img = cv2.imread(os.path.join(os.getcwd(), 'images/Tests', dir, img_path))\n",
    "            \n",
    "            # Preprocessing color and size\n",
    "            gray_img = cv2.cvtColor(img, color_space)\n",
    "            \n",
    "            blurred_img = cv2.GaussianBlur(gray_img, (5, 5), 0)\n",
    "            \n",
    "            edges = cv2.Canny(blurred_img, threshold1=50, threshold2=150)\n",
    "            resized_img = cv2.resize(edges, (img_size, img_size)).flatten()\n",
    "            normalized_img = resized_img / 255.0\n",
    "            \n",
    "            img1D.append(normalized_img)\n",
    "            labels.append(dir)\n",
    "            \n",
    "            print(f'{img_size}x{img_size} {color_name} {model_name}. Finished reading {img_path}.                                  ', end='\\r')\n",
    "\n",
    "    print(f'{img_size}x{img_size} {color_name} {model_name}. Importing to img_df.                                  ', end='\\r')\n",
    "    \n",
    "    img_df = pd.DataFrame(img1D)\n",
    "    img_df['label'] = labels\n",
    "\n",
    "    X = img_df.drop(columns=['label'])\n",
    "    y = img_df['label']\n",
    "\n",
    "    # Split training and testing data\n",
    "    X_train, X_test, y_train, y_test = train_test_split(\n",
    "        X, y, test_size=0.1, random_state=0, stratify=y\n",
    "    )\n",
    "    \n",
    "    print(f'{img_size}x{img_size} {color_name} {model_name}. Training the model.                                  ', end='\\r')\n",
    "\n",
    "    # Initialize the model\n",
    "    model = model_type\n",
    "    model.fit(X_train, y_train)\n",
    "\n",
    "    # Predict and evaluate\n",
    "    y_pred = model.predict(X_test)\n",
    "    accuracy = accuracy_score(y_test, y_pred)\n",
    "    precision = precision_score(y_test, y_pred, average='weighted')\n",
    "    recall = recall_score(y_test, y_pred, average='weighted')\n",
    "    f1 = f1_score(y_test, y_pred, average='weighted')\n",
    "    \n",
    "    results.append({\n",
    "        \"Image_Size\": img_size,\n",
    "        \"Color_Space\": color_name,\n",
    "        \"Model\": model_name,\n",
    "        \"Accuracy\": accuracy,\n",
    "        \"Precision\": precision,\n",
    "        \"Recall\": recall,\n",
    "        \"F1_Score\": f1\n",
    "    })\n",
    "\n",
    "for img_size in image_sizes:\n",
    "    for model_name, model_type in models.items():\n",
    "        for color_name, color_space in color_spaces.items():\n",
    "            TunableModel(img_size, model_type, model_name, color_space, color_name)\n",
    "\n",
    "results_df = pd.DataFrame(results)\n",
    "\n",
    "# Sort the DataFrame by 'F1_Score' in descending order\n",
    "sorted_df = results_df.sort_values(by='F1_Score', ascending=False)\n",
    "\n",
    "# Print the sorted DataFrame\n",
    "print(sorted_df)"
   ]
  },
  {
   "cell_type": "code",
   "execution_count": 14,
   "metadata": {},
   "outputs": [],
   "source": [
    "def TunableModelwithResults(img_size, model_type, model_name, color_space, color_name):\n",
    "    img1D = []\n",
    "    labels = []\n",
    "\n",
    "    # Get images and convert to 1D\n",
    "    \n",
    "    base_path = os.path.join(os.getcwd(), 'images/Tests')\n",
    "    \n",
    "    for dir in os.listdir(base_path):\n",
    "        dir_path = os.path.join(base_path, dir)\n",
    "        for img_path in os.listdir(dir_path):\n",
    "            img = cv2.imread(os.path.join(os.getcwd(), 'images/Tests', dir, img_path))\n",
    "            \n",
    "            # Preprocessing color and size\n",
    "            gray_img = cv2.cvtColor(img, color_space)\n",
    "            \n",
    "            blurred_img = cv2.GaussianBlur(gray_img, (5, 5), 0)\n",
    "            \n",
    "            edges = cv2.Canny(blurred_img, threshold1=50, threshold2=150)\n",
    "            resized_img = cv2.resize(edges, (img_size, img_size)).flatten()\n",
    "            normalized_img = resized_img / 255.0\n",
    "            \n",
    "            img1D.append(normalized_img)\n",
    "            labels.append(dir)\n",
    "            \n",
    "            print(f'{img_size}x{img_size} {color_name} {model_name}. Finished reading {img_path}.                                  ', end='\\r')\n",
    "\n",
    "    print(f'{img_size}x{img_size} {color_name} {model_name}. Importing to img_df.                                  ', end='\\r')\n",
    "    \n",
    "    img_df = pd.DataFrame(img1D)\n",
    "    img_df['label'] = labels\n",
    "\n",
    "    X = img_df.drop(columns=['label'])\n",
    "    y = img_df['label']\n",
    "\n",
    "    # Split training and testing data\n",
    "    X_train, X_test, y_train, y_test = train_test_split(\n",
    "        X, y, test_size=0.1, random_state=0, stratify=y\n",
    "    )\n",
    "    \n",
    "    print(f'{img_size}x{img_size} {color_name} {model_name}. Training the model.                                  ', end='\\r')\n",
    "\n",
    "    # Initialize the model\n",
    "    model = model_type\n",
    "    model.fit(X_train, y_train)\n",
    "\n",
    "    # Predict and evaluate\n",
    "    y_pred = model.predict(X_test)\n",
    "    accuracy = accuracy_score(y_test, y_pred)\n",
    "    precision = precision_score(y_test, y_pred, average='weighted')\n",
    "    recall = recall_score(y_test, y_pred, average='weighted')\n",
    "    f1 = f1_score(y_test, y_pred, average='weighted')\n",
    "    \n",
    "    print(\"\\nClassification Report:\")\n",
    "    print(classification_report(y_test, y_pred, target_names=y_test.unique()))\n",
    "\n",
    "    # Evaluation Metrics\n",
    "    accuracy = accuracy_score(y_test, y_pred)\n",
    "    precision = precision_score(y_test, y_pred, average='weighted')\n",
    "    recall = recall_score(y_test, y_pred, average='weighted')\n",
    "    f1 = f1_score(y_test, y_pred, average='weighted')\n",
    "\n",
    "    print(\"\\nEvaluation Metrics:\")\n",
    "    print(\"-\" * 25)\n",
    "    print(f\"{'Accuracy':<15}{accuracy:>10.4f}\")\n",
    "    print(f\"{'Precision':<15}{precision:>10.4f}\")\n",
    "    print(f\"{'Recall':<15}{recall:>10.4f}\")\n",
    "    print(f\"{'F1 Score':<15}{f1:>10.4f}\")"
   ]
  },
  {
   "cell_type": "code",
   "execution_count": 22,
   "metadata": {},
   "outputs": [
    {
     "name": "stdout",
     "output_type": "stream",
     "text": [
      "32x32 GRAY RandomForest. Training the model.                                                                     \n",
      "Classification Report:\n",
      "              precision    recall  f1-score   support\n",
      "\n",
      "           0       1.00      1.00      1.00         2\n",
      "           2       1.00      0.67      0.80         3\n",
      "           1       0.50      1.00      0.67         2\n",
      "           3       1.00      0.67      0.80         3\n",
      "           4       1.00      1.00      1.00         3\n",
      "\n",
      "    accuracy                           0.85        13\n",
      "   macro avg       0.90      0.87      0.85        13\n",
      "weighted avg       0.92      0.85      0.86        13\n",
      "\n",
      "\n",
      "Evaluation Metrics:\n",
      "-------------------------\n",
      "Accuracy           0.8462\n",
      "Precision          0.9231\n",
      "Recall             0.8462\n",
      "F1 Score           0.8564\n"
     ]
    }
   ],
   "source": [
    "TunableModelwithResults(32, RandomForestClassifier(), \"RandomForest\", cv2.COLOR_BGR2GRAY, \"GRAY\")"
   ]
  },
  {
   "cell_type": "code",
   "execution_count": 24,
   "metadata": {},
   "outputs": [
    {
     "name": "stdout",
     "output_type": "stream",
     "text": [
      "32x32 GRAY RandomForest. Training the model.                                                                     \n",
      "Classification Report:\n",
      "              precision    recall  f1-score   support\n",
      "\n",
      "           0       1.00      1.00      1.00         2\n",
      "           2       1.00      0.67      0.80         3\n",
      "           1       0.50      1.00      0.67         2\n",
      "           3       1.00      0.67      0.80         3\n",
      "           4       1.00      1.00      1.00         3\n",
      "\n",
      "    accuracy                           0.85        13\n",
      "   macro avg       0.90      0.87      0.85        13\n",
      "weighted avg       0.92      0.85      0.86        13\n",
      "\n",
      "\n",
      "Evaluation Metrics:\n",
      "-------------------------\n",
      "Accuracy           0.8462\n",
      "Precision          0.9231\n",
      "Recall             0.8462\n",
      "F1 Score           0.8564\n"
     ]
    },
    {
     "data": {
      "text/plain": [
       "['Group11-ClassicalModel.joblib']"
      ]
     },
     "execution_count": 24,
     "metadata": {},
     "output_type": "execute_result"
    }
   ],
   "source": [
    "import joblib\n",
    "\n",
    "model = TunableModelwithResults(32, RandomForestClassifier(), \"RandomForest\", cv2.COLOR_BGR2GRAY, \"GRAY\")\n",
    "\n",
    "# Save the entire model (architecture + weights) using joblib\n",
    "joblib.dump(model, 'Group11-ClassicalModel.joblib')\n",
    "\n"
   ]
  }
 ],
 "metadata": {
  "kernelspec": {
   "display_name": "Python 3",
   "language": "python",
   "name": "python3"
  },
  "language_info": {
   "codemirror_mode": {
    "name": "ipython",
    "version": 3
   },
   "file_extension": ".py",
   "mimetype": "text/x-python",
   "name": "python",
   "nbconvert_exporter": "python",
   "pygments_lexer": "ipython3",
   "version": "3.12.6"
  }
 },
 "nbformat": 4,
 "nbformat_minor": 2
}
